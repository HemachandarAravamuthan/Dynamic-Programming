{
  "nbformat": 4,
  "nbformat_minor": 0,
  "metadata": {
    "colab": {
      "provenance": []
    },
    "kernelspec": {
      "name": "python3",
      "display_name": "Python 3"
    },
    "language_info": {
      "name": "python"
    }
  },
  "cells": [
    {
      "cell_type": "code",
      "execution_count": null,
      "metadata": {
        "id": "9hj0hNQa_CH8"
      },
      "outputs": [],
      "source": [
        "# Recursion\n",
        "def main(n):\n",
        "  if n== 0: return\n",
        "  print('hello', n)\n",
        "  main(n-1)"
      ]
    },
    {
      "cell_type": "code",
      "source": [
        "main(5)"
      ],
      "metadata": {
        "colab": {
          "base_uri": "https://localhost:8080/"
        },
        "id": "EjqJMR3W_b-n",
        "outputId": "1b61c748-5f45-4c9f-edaf-03566a44a15a"
      },
      "execution_count": null,
      "outputs": [
        {
          "output_type": "stream",
          "name": "stdout",
          "text": [
            "hello 5\n",
            "hello 4\n",
            "hello 3\n",
            "hello 2\n",
            "hello 1\n"
          ]
        }
      ]
    },
    {
      "cell_type": "code",
      "source": [
        "# Factorial\n",
        "# Buttom up Approach or Tabulation\n",
        "\n",
        "def factorial(n):\n",
        "  # Setting the table\n",
        "  dp = [0] * (n+1)\n",
        "\n",
        "  # Base line\n",
        "  dp[0] = 1\n",
        "  dp[1] = 1\n",
        "  print(dp)\n",
        "\n",
        "  # Tabulating\n",
        "  for i in range(2,n+1):\n",
        "    dp[i] = dp[i-1] * i\n",
        "    print(dp)\n",
        "  return dp[n]\n",
        "\n",
        "factorial(5)\n"
      ],
      "metadata": {
        "colab": {
          "base_uri": "https://localhost:8080/"
        },
        "id": "J-2aSyH2CY1H",
        "outputId": "e8c77065-6e15-4836-dc4a-e381e54cd52f"
      },
      "execution_count": null,
      "outputs": [
        {
          "output_type": "stream",
          "name": "stdout",
          "text": [
            "[1, 1, 0, 0, 0, 0]\n",
            "[1, 1, 2, 0, 0, 0]\n",
            "[1, 1, 2, 6, 0, 0]\n",
            "[1, 1, 2, 6, 24, 0]\n",
            "[1, 1, 2, 6, 24, 120]\n"
          ]
        },
        {
          "output_type": "execute_result",
          "data": {
            "text/plain": [
              "120"
            ]
          },
          "metadata": {},
          "execution_count": 7
        }
      ]
    },
    {
      "cell_type": "code",
      "source": [
        "# Factorial\n",
        "# Top-down Approach or Memoization\n",
        "\n",
        "def factorial(n, memo):\n",
        "  if n in memo: return memo[n]\n",
        "\n",
        "  if n == 0 or n == 1: return 1\n",
        "  memo[n] = factorial(n-1, memo) * n\n",
        "  return memo[n]\n",
        "\n",
        "memo ={}\n",
        "print(factorial(7, memo))\n",
        "print(memo)\n"
      ],
      "metadata": {
        "colab": {
          "base_uri": "https://localhost:8080/"
        },
        "id": "_m5HoGjMEaIE",
        "outputId": "62d7fde1-bc53-4baa-ac25-4cac3dc43b71"
      },
      "execution_count": null,
      "outputs": [
        {
          "output_type": "stream",
          "name": "stdout",
          "text": [
            "5040\n",
            "{2: 2, 3: 6, 4: 24, 5: 120, 6: 720, 7: 5040}\n"
          ]
        }
      ]
    },
    {
      "cell_type": "markdown",
      "source": [
        " **Problem Description:**\\\n",
        " You are given an integer array coins representing coins of different denominations and an integer\n",
        " amount representing a total amount of money.\n",
        " Return the fewest number of coins that you need to make up that amount. If that amount of money\n",
        " cannot be made up by any combination of the coins, return -1.\n",
        " You may assume that you have an infinite number of each kind of coin.\\\n",
        " **Input Description:**\\\n",
        " An integer array `coins` representing coins of different denominations.\n",
        " An integer `amount` representing a total amount of money.\\\n",
        " **Output Description:**\\\n",
        " The fewest number of coins needed to make up the amount. If the amount cannot be made up,\n",
        " return -1.\\\n",
        " **Examples:**\\\n",
        " **Example 1:**- Input: `coins = [1, 2, 5]`, `amount = 11`- Output: `3`- Explanation: `11 = 5 + 5 + 1`\\\n",
        " **Example 2:**- Input: `coins = [2]`, `amount = 3`- Output: `-1`\\\n",
        " **Example 3:**- Input: `coins = [1]`, `amount = 0`- Output: `0`\\\n",
        " **Constraints:**\n",
        " 1 <= coins.length <= 12\n",
        " 1 <= coins[i] <= 2^31 - 1\n",
        " 0 <= amount <= 10^4"
      ],
      "metadata": {
        "id": "z2O7UjsfOAm4"
      }
    },
    {
      "cell_type": "code",
      "source": [
        "def change(coins, amount):\n",
        "  dp = [0] * (amount+1)\n",
        "\n",
        "  for i in range(1, amount+1):\n",
        "    min_coins = float('inf')\n",
        "    for coin in coins:\n",
        "      if i - coin >= 0:\n",
        "        min_coins = min(min_coins, dp[i-coin])\n",
        "        dp[i] = min_coins + 1\n",
        "  return dp[amount] if dp[amount] != float('inf') else -1\n",
        "\n",
        "\n",
        "coins = list(map(int, input().split(', ')))\n",
        "amount = int(input())\n",
        "print(change(coins, amount))"
      ],
      "metadata": {
        "id": "sM--vZSrNy1R",
        "colab": {
          "base_uri": "https://localhost:8080/"
        },
        "outputId": "c39626f0-1388-41ca-bced-425d7d736545"
      },
      "execution_count": null,
      "outputs": [
        {
          "output_type": "stream",
          "name": "stdout",
          "text": [
            "1, 2, 5\n",
            "11\n",
            "3\n"
          ]
        }
      ]
    },
    {
      "cell_type": "markdown",
      "source": [
        "**Problem Description:**\\\n",
        " Given a string `s`, return the longest palindromic substring in `s`.\\\n",
        " **Input Description:**\\\n",
        " A string `s`.\\\n",
        " Output Description:\\\n",
        " The longest palindromic substring in `s`.\\\n",
        " **Examples:**\\\n",
        " **Example 1:**- Input: `s = \"babad\"`- Output: `\"bab\"`- Explanation: `\"aba\"` is also a valid answer.\\\n",
        "**Example 2:**- Input: `s = \"cbbd\"`- Output: `\"bb\"`\\\n",
        "**Constraints:**\\\n",
        " 1 <= s.length <= 1000\n",
        " s consists of only digits and English letters."
      ],
      "metadata": {
        "id": "uYoptHlhP3LA"
      }
    },
    {
      "cell_type": "code",
      "source": [
        "def longestPalindrome(s):\n",
        "    n = len(s)\n",
        "    dp = [[False] * n for _ in range(n)]\n",
        "    max_length = 1\n",
        "    start = 0\n",
        "\n",
        "    for i in range(n):\n",
        "        dp[i][i] = True\n",
        "\n",
        "    for i in range(n - 1):\n",
        "        if s[i] == s[i + 1]:\n",
        "            dp[i][i + 1] = True\n",
        "            max_length = 2\n",
        "            start = i\n",
        "\n",
        "    for length in range(3, n + 1):\n",
        "        for i in range(n - length + 1):\n",
        "            j = i + length - 1\n",
        "            if s[i] == s[j] and dp[i + 1][j - 1]:\n",
        "                dp[i][j] = True\n",
        "                if length > max_length:\n",
        "                    max_length = length\n",
        "                    start = i\n",
        "\n",
        "    return s[start:start + max_length]\n",
        "\n",
        "s = input()\n",
        "print(longestPalindrome(s))"
      ],
      "metadata": {
        "id": "ur_NjUpvQNhN",
        "colab": {
          "base_uri": "https://localhost:8080/"
        },
        "outputId": "3a78e649-ab94-4048-e3b6-3be0046aaef2"
      },
      "execution_count": 3,
      "outputs": [
        {
          "output_type": "stream",
          "name": "stdout",
          "text": [
            "bab\n"
          ]
        }
      ]
    },
    {
      "cell_type": "markdown",
      "source": [
        "**Problem Description:**\\\n",
        " For a string sequence, a string word is k-repeating if word concatenated k times is a substring of\n",
        " sequence. The word's maximum k-repeating value is the highest value k where word is k-repeating\n",
        " in sequence. If word is not a substring of sequence, word's maximum k-repeating value is 0.\n",
        " Given strings sequence and word, return the maximum k-repeating value of word in sequence.\\\n",
        "**Input Description:**\\\n",
        " Two strings `sequence` and `word`.\\\n",
        " Output Description:\\\n",
        " The maximum k-repeating value of `word` in `sequence`.\\\n",
        "**Examples:**\\\n",
        " **Example 1:**- Input: `sequence = \"ababc\"`, `word = \"ab\"`- Output: `2`- Explanation: `\"abab\"` is a substring in `\"ababc\"`.\\\n",
        "**Example 2:**- Input: `sequence = \"ababc\"`, `word = \"ba\"`- Output: `1`- Explanation: `\"ba\"` is a substring in `\"ababc\"`. `\"baba\"` is not a substring in `\"ababc\"`.\\\n",
        " **Example 3:**- Input: `sequence = \"ababc\"`, `word = \"ac\"`- Output: `0`- Explanation: `\"ac\"` is not a substring in `\"ababc\"`.\\\n",
        " **Constraints:**\\\n",
        " 1 <= sequence.length <= 100\n",
        " 1 <= word.length <= 100\n",
        " sequence and word contain only lowercase English letters"
      ],
      "metadata": {
        "id": "sLix7GnBXAKc"
      }
    },
    {
      "cell_type": "code",
      "source": [
        "def max_repeating(sequence, word):\n",
        "    n = len(sequence)\n",
        "    m = len(word)\n",
        "    dp = [0] * (n + 1)\n",
        "\n",
        "    for i in range(1, n + 1):\n",
        "        if sequence[i - m:i] == word:\n",
        "            dp[i] = dp[i - m] + 1\n",
        "        else:\n",
        "            dp[i] = dp[i - 1]\n",
        "\n",
        "    return max(dp)\n",
        "\n",
        "sequence = input()\n",
        "word = input()\n",
        "print(max_repeating(sequence, word))"
      ],
      "metadata": {
        "colab": {
          "base_uri": "https://localhost:8080/"
        },
        "id": "J3_rhiCYW_e4",
        "outputId": "2a09e4d3-dc77-40bc-ba4f-592c7ff260bc"
      },
      "execution_count": 4,
      "outputs": [
        {
          "output_type": "stream",
          "name": "stdout",
          "text": [
            "ababc\n",
            "ab\n",
            "2\n"
          ]
        }
      ]
    },
    {
      "cell_type": "markdown",
      "source": [
        " **Problem Description:**\\\n",
        " Given an integer array `nums`, find the subarray with the largest sum, and return its sum.\\\n",
        " **Input Description:**\\\n",
        " An integer array `nums`.\\\n",
        " **Output Description:**\\\n",
        " The sum of the subarray with the largest sum.\\\n",
        " **Examples:**\\\n",
        " **Example 1:**- Input: `nums = [-2, 1, -3, 4, -1, 2, 1, -5, 4]`- Output: `6`- Explanation: The subarray `[4, -1, 2, 1]` has the largest sum `6`.\\\n",
        " **Example 2:**- Input: `nums = [1]`- Output: `1`- Explanation: The subarray `[1]` has the largest sum `1`\\.\n",
        " **Example 3:**- Input: `nums = [5, 4, -1, 7, 8]`- Output: `23`- Explanation: The subarray `[5, 4, -1, 7, 8]` has the largest sum `23`.\\\n",
        " **Constraints:**\\\n",
        " 1 <= nums.length <= 10^5-10^4 <= nums[i] <= 10^4"
      ],
      "metadata": {
        "id": "A8I1jabJYG1W"
      }
    },
    {
      "cell_type": "code",
      "source": [
        "def max_subarray_sum(nums):\n",
        "    currSum = maxSum = nums[0]\n",
        "\n",
        "    for i in range(1, len(nums)):\n",
        "        currSum = max(nums[i], currSum + nums[i])\n",
        "        maxSum = max(maxSum, currSum)\n",
        "\n",
        "    return maxSum\n",
        "\n",
        "nums = list(map(int, input().split(', ')))\n",
        "\n",
        "print(max_subarray_sum(nums))"
      ],
      "metadata": {
        "colab": {
          "base_uri": "https://localhost:8080/"
        },
        "id": "XVNZR7slZIb3",
        "outputId": "45ee2247-76c2-4e9c-e37e-e82d652c19b4"
      },
      "execution_count": 6,
      "outputs": [
        {
          "output_type": "stream",
          "name": "stdout",
          "text": [
            "-2, 1, -3, 4, -1, 2, 1, -5, 4\n",
            "6\n"
          ]
        }
      ]
    },
    {
      "cell_type": "markdown",
      "source": [
        "**Problem Description:**\\\n",
        " You are climbing a staircase. It takes `n` steps to reach the top.\n",
        " Each time you can either climb 1 or 2 steps. In how many distinct ways can you climb to the top?\\\n",
        " **Input Description:**\\\n",
        " An integer `n`.\\\n",
        " **Output Description:**\\\n",
        "The number of distinct ways to climb to the top.\\\n",
        " **Examples:**\\\n",
        " **Example 1:**- Input: `n = 2`- Output: `2`- Explanation: There are two ways to climb to the top.\n",
        " 1. 1 step + 1 step\n",
        " 2. 2 steps\n",
        " **Example 2:**- Input: `n = 3`- Output: `3`- Explanation: There are three ways to climb to the top.\n",
        " 1. 1 step + 1 step + 1 step\n",
        " 2. 1 step + 2 steps\n",
        " 3. 2 steps + 1 step\n",
        " **Constraints:**\\\n",
        " 1 <= n <= 45"
      ],
      "metadata": {
        "id": "3wRWUVeTYlMU"
      }
    },
    {
      "cell_type": "code",
      "source": [],
      "metadata": {
        "id": "3U_KBNA8aa3-"
      },
      "execution_count": null,
      "outputs": []
    }
  ]
}